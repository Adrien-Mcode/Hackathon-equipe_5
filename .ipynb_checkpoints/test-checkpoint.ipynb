{
 "cells": [
  {
   "cell_type": "code",
   "execution_count": 8,
   "id": "classified-palmer",
   "metadata": {},
   "outputs": [],
   "source": [
    "import pandas as pd\n",
    "from sklearn.model_selection import train_test_split"
   ]
  },
  {
   "cell_type": "code",
   "execution_count": 2,
   "id": "labeled-transport",
   "metadata": {},
   "outputs": [
    {
     "name": "stdout",
     "output_type": "stream",
     "text": [
      "Looking in indexes: https://nexusm-repo-mob.apps.eul.sncf.fr/repository/pypi-public/simple"
     ]
    },
    {
     "name": "stderr",
     "output_type": "stream",
     "text": [
      "You are using pip version 18.1, however version 21.0.1 is available.\n",
      "You should consider upgrading via the 'python -m pip install --upgrade pip' command.\n"
     ]
    },
    {
     "name": "stdout",
     "output_type": "stream",
     "text": [
      "\n",
      "Collecting scikit-learn\n",
      "  Downloading https://nexusm-repo-mob.apps.eul.sncf.fr/repository/pypi-public/packages/packages/3c/d3/63700971e89bc5024d4356310229f5cdc93927c8c8bf95c53bb7b5e4a62e/scikit_learn-0.24.1-cp36-cp36m-win_amd64.whl (6.8MB)\n",
      "Requirement already satisfied: numpy>=1.13.3 in c:\\users\\9605647w\\.pyenv\\pyenv-win\\versions\\3.6.8\\lib\\site-packages (from scikit-learn) (1.19.5)\n",
      "Collecting joblib>=0.11 (from scikit-learn)\n",
      "  Downloading https://nexusm-repo-mob.apps.eul.sncf.fr/repository/pypi-public/packages/packages/55/85/70c6602b078bd9e6f3da4f467047e906525c355a4dacd4f71b97a35d9897/joblib-1.0.1-py3-none-any.whl (303kB)\n",
      "Collecting threadpoolctl>=2.0.0 (from scikit-learn)\n",
      "  Downloading https://nexusm-repo-mob.apps.eul.sncf.fr/repository/pypi-public/packages/packages/f7/12/ec3f2e203afa394a149911729357aa48affc59c20e2c1c8297a60f33f133/threadpoolctl-2.1.0-py3-none-any.whl\n",
      "Collecting scipy>=0.19.1 (from scikit-learn)\n",
      "  Using cached https://nexusm-repo-mob.apps.eul.sncf.fr/repository/pypi-public/packages/packages/f3/9f/80522344838ae24cac9e945240436269cbb92349f7f1f4c9dfc10cb6bad5/scipy-1.5.4-cp36-cp36m-win_amd64.whl\n",
      "Installing collected packages: joblib, threadpoolctl, scipy, scikit-learn\n",
      "Successfully installed joblib-1.0.1 scikit-learn-0.24.1 scipy-1.5.4 threadpoolctl-2.1.0\n"
     ]
    }
   ],
   "source": [
    "!pip install scikit-learn"
   ]
  },
  {
   "cell_type": "code",
   "execution_count": 9,
   "id": "soviet-frost",
   "metadata": {},
   "outputs": [],
   "source": [
    "df = pd.read_csv(\"train.csv\", nrows=10, parse_dates=[\"date\", \"items_first_enabled_date\"])"
   ]
  },
  {
   "cell_type": "code",
   "execution_count": 6,
   "id": "sixth-prescription",
   "metadata": {},
   "outputs": [
    {
     "data": {
      "text/plain": [
       "array(['date', 'store_id', 'parent_chain_id', 'store_country',\n",
       "       'country_iso_code', 'region_id', 'store_region', 'store_segment',\n",
       "       'store_activity_name', 'items_first_enabled_date',\n",
       "       'store_first_saving_date', 'store_last_saving_date', 'item_id',\n",
       "       'item_name', 'before_price', 'currency_code', 'pickup_start',\n",
       "       'pickup_end', 'total_supply', 'declared_supply',\n",
       "       'manual_added_supply', 'manual_removed_supply', 'meals_saved',\n",
       "       'consumer_cancellation', 'store_cancellation', 'item_price',\n",
       "       'meals_refunded', 'rating_count', 'sum_rating_overall',\n",
       "       'item_view', 'no_unique_consumers', 'is_enabled', 'Département',\n",
       "       'target'], dtype=object)"
      ]
     },
     "execution_count": 6,
     "metadata": {},
     "output_type": "execute_result"
    }
   ],
   "source": [
    "df.columns.values"
   ]
  },
  {
   "cell_type": "code",
   "execution_count": 7,
   "id": "green-queensland",
   "metadata": {},
   "outputs": [],
   "source": [
    "X_train, X_test, y_train, y_test = train_test_split(df.drop([\"target\"], axis=1), df[\"target\"], test_size=1 / 3)"
   ]
  },
  {
   "cell_type": "code",
   "execution_count": 9,
   "id": "focused-stephen",
   "metadata": {},
   "outputs": [
    {
     "data": {
      "text/plain": [
       "1    0.0\n",
       "7    0.0\n",
       "8    0.0\n",
       "5    0.0\n",
       "0    0.0\n",
       "2    0.0\n",
       "Name: target, dtype: float64"
      ]
     },
     "execution_count": 9,
     "metadata": {},
     "output_type": "execute_result"
    }
   ],
   "source": [
    "y_train"
   ]
  },
  {
   "cell_type": "code",
   "execution_count": 10,
   "id": "recreational-murder",
   "metadata": {},
   "outputs": [],
   "source": [
    "from sklearn.metrics import accuracy_score"
   ]
  },
  {
   "cell_type": "code",
   "execution_count": 11,
   "id": "saved-failure",
   "metadata": {},
   "outputs": [
    {
     "data": {
      "text/plain": [
       "'accuracy_score'"
      ]
     },
     "execution_count": 11,
     "metadata": {},
     "output_type": "execute_result"
    }
   ],
   "source": [
    "accuracy_score.__name__"
   ]
  },
  {
   "cell_type": "code",
   "execution_count": 13,
   "id": "adverse-deployment",
   "metadata": {},
   "outputs": [],
   "source": [
    "import yaml\n",
    "def write_yaml(d: dict, filename: str):\n",
    "    with open(filename, 'w', encoding='utf8') as yaml_file:\n",
    "        yaml.dump(d, yaml_file, default_flow_style=False)\n",
    "\n",
    "for model_type in [\"rfc\", \"logit\", \"lightgbm\"]:\n",
    "    for nrows_train in [500, 1000, 10000, 100000, 500000]:\n",
    "        for kind_imputer in [\"iterative\", \"simple\"]:\n",
    "            for only_quantitative in [True, False]:\n",
    "                if not((model_type == \"logit\") & (nrows_train > 1000)):\n",
    "                    dico = {\"nrows_train\": nrows_train,\n",
    "                            \"nrows_test\": 100000,\n",
    "                            \"model_name\": f\"{model_type}_{nrows_train}_{kind_imputer}_{only_quantitative}\",\n",
    "                            \"get_new\": False,\n",
    "                            \"sample_name\": \"dummy_sample\",\n",
    "                            \"only_quantitative\": only_quantitative,\n",
    "                            \"target_encoding\": not(only_quantitative),\n",
    "                            \"model_type\": model_type,\n",
    "                            \"kind_imputer\": kind_imputer,\n",
    "                            \"quantitative_cols\": ['total_supply', 'declared_supply', 'manual_added_supply', \n",
    "                                                 'manual_removed_supply', 'meals_saved', 'consumer_cancellation',\n",
    "                                                 'store_cancellation', 'item_price', 'meals_refunded', 'rating_count',\n",
    "                                                 'sum_rating_overall'],\n",
    "                            \"qualitative_cols\": ['date', 'region_id','store_segment',\n",
    "                                                   'store_activity_name', \n",
    "                                                   'item_name', \"is_enabled\",\n",
    "                                                 \"items_first_enabled_date\", \"store_first_saving_date\", \n",
    "                                                 \"store_last_saving_date\"]\n",
    "                           }\n",
    "                    write_yaml(dico, f\"config/{model_type}_{nrows_train}_{kind_imputer}_{only_quantitative}.yml\")\n",
    "                \n",
    "                \n"
   ]
  },
  {
   "cell_type": "code",
   "execution_count": null,
   "id": "intelligent-pickup",
   "metadata": {},
   "outputs": [],
   "source": []
  },
  {
   "cell_type": "code",
   "execution_count": null,
   "id": "downtown-tennessee",
   "metadata": {},
   "outputs": [],
   "source": []
  }
 ],
 "metadata": {
  "kernelspec": {
   "display_name": "Python 3",
   "language": "python",
   "name": "python3"
  },
  "language_info": {
   "codemirror_mode": {
    "name": "ipython",
    "version": 3
   },
   "file_extension": ".py",
   "mimetype": "text/x-python",
   "name": "python",
   "nbconvert_exporter": "python",
   "pygments_lexer": "ipython3",
   "version": "3.6.8"
  }
 },
 "nbformat": 4,
 "nbformat_minor": 5
}
